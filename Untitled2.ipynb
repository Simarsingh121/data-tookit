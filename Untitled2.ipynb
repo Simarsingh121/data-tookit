{
  "nbformat": 4,
  "nbformat_minor": 0,
  "metadata": {
    "colab": {
      "provenance": []
    },
    "kernelspec": {
      "name": "python3",
      "display_name": "Python 3"
    },
    "language_info": {
      "name": "python"
    }
  },
  "cells": [
    {
      "cell_type": "markdown",
      "source": [
        "##       ** data toolkit**\n",
        "\n",
        "Q1. What is NumPy, and why is it widely used in Python?\n",
        "- NumPy is a Python library used for numerical computing. It provides fast and efficient handling of large datasets through n-dimensional arrays, which are much quicker than Python lists. Many data science libraries like Pandas and SciPy are built on top of NumPy because of its speed and reliability.\n",
        "\n",
        "Q2. How does broadcasting work in NumPy?\n",
        " - Broadcasting is a feature that lets NumPy perform operations on arrays of different shapes. It automatically stretches the smaller array to match the shape of the larger one. For example, adding a scalar to every element of an array works without writing loops.\n",
        "\n",
        "Q3. What is a Pandas DataFrame?\n",
        "- A DataFrame in Pandas is a two-dimensional labeled data structure, like a table in Excel. It has rows and columns with labels, making it easy to work with structured data.\n",
        "\n",
        "Q4. Explain the use of the groupby() method in Pandas.\n",
        "- The groupby() method is used to split data into groups based on one or more columns and then apply functions such as sum, mean, or count. For instance, it can be used to calculate the total sales for each region in a dataset.\n",
        "\n",
        "Q5. Why is Seaborn preferred for statistical visualizations?\n",
        "- Seaborn is preferred because it creates attractive charts with simple commands and works directly with Pandas DataFrames. It is especially good for statistical plots like boxplots, violin plots, pair plots, and heatmaps.\n",
        "\n",
        "Q6. What are the differences between NumPy arrays and Python lists?\n",
        "- NumPy arrays are faster, use less memory, and support mathematical operations directly. Python lists are slower, can store mixed data types, and require loops for calculations.\n",
        "\n",
        "Q7. What is a heatmap, and when should it be used?\n",
        "- A heatmap is a color-coded matrix used to show the intensity of values. It is often used for correlation matrices or confusion matrices to make patterns easier to see.\n",
        "\n",
        "Q8. What does the term “vectorized operation” mean in NumPy?\n",
        "- Vectorized operation means applying calculations on entire arrays without loops. For example, a + b adds two arrays element by element. This is faster than using Python loops.\n",
        "\n",
        "Q9. How does Matplotlib differ from Plotly?\n",
        "- Matplotlib is mainly used for static and publication-quality plots. Plotly creates interactive plots where users can zoom, pan, and hover, making it better for dashboards and presentations.\n",
        "\n",
        "Q10. What is the significance of hierarchical indexing in Pandas?\n",
        "- Hierarchical indexing (or multi-indexing) allows more than one level of indexing for rows or columns. It is useful when working with multi-dimensional data in a two-dimensional DataFrame.\n",
        "\n",
        "Q11. What is the role of Seaborn’s pairplot() function?\n",
        "- The pairplot() function shows scatterplots for every pair of numerical variables and distributions on the diagonal. It helps in quickly spotting relationships and correlations between features.\n",
        "\n",
        "Q12. What is the purpose of the describe() function in Pandas?\n",
        "- The describe() function gives summary statistics such as mean, standard deviation, minimum, maximum, and quartiles. It is a quick way to understand the distribution of a dataset.\n",
        "\n",
        "Q13. Why is handling missing data important in Pandas?\n",
        "- Handling missing data is important because missing values can affect analysis and lead to incorrect results. Pandas provides methods like dropna() to remove them and fillna() to replace them with suitable values.\n",
        "\n",
        "Q14. What are the benefits of using Plotly for data visualization?\n",
        "- Plotly allows the creation of interactive and web-ready visualizations. It supports advanced charts such as 3D plots, maps, and animations, which makes it popular for dashboards and presentations.\n",
        "\n",
        "Q15. How does NumPy handle multidimensional arrays?\n",
        "- NumPy stores multidimensional arrays in continuous memory and uses shape and strides to navigate them. This makes it efficient for working with higher-dimensional data like matrices and tensors.\n",
        "\n",
        "Q16. What is the role of Bokeh in data visualization?\n",
        "- Bokeh is a library for creating interactive plots and dashboards. It is especially useful for large or streaming datasets and for embedding interactive graphics into web applications.\n",
        "\n",
        "Q17. Explain the difference between apply() and map() in Pandas.\n",
        "- The map() function is used on a Series to apply a function to each element. The apply() function can be used on a DataFrame to apply functions row-wise or column-wise.\n",
        "\n",
        "Q18. What are some advanced features of NumPy?\n",
        "- Some advanced features are broadcasting, fancy indexing, linear algebra functions, random number generation, Fourier transforms, and memory-mapped arrays for handling very large data.\n",
        "\n",
        "Q19. How does Pandas simplify time series analysis?\n",
        "- Pandas provides built-in support for time series through DatetimeIndex. Functions like resample(), shift(), and rolling() make it easy to handle frequency conversion, lag analysis, and moving averages.\n",
        "\n",
        "Q20. What is the role of a pivot table in Pandas?\n",
        "- A pivot table summarizes data in a table format. It can show totals or averages grouped by different categories, similar to pivot tables in Excel.\n",
        "\n",
        "Q21. Why is NumPy’s array slicing faster than Python’s list slicing?\n",
        "- Array slicing in NumPy is faster because it creates a view of the data instead of copying it. List slicing always creates a new list, which takes more time and memory.\n",
        "\n",
        "Q22. What are some common use cases for Seaborn?\n",
        "- Seaborn is commonly used for plotting distributions, comparing groups, analyzing relationships between variables, and creating heatmaps for correlation analysis."
      ],
      "metadata": {
        "id": "Ln3uu6RKbdgQ"
      }
    },
    {
      "cell_type": "markdown",
      "source": [
        "# **Practical**"
      ],
      "metadata": {
        "id": "GwDfY-xtcHmX"
      }
    },
    {
      "cell_type": "markdown",
      "source": [
        "Q1. How do you create a 2D NumPy array and calculate the sum of each row?"
      ],
      "metadata": {
        "id": "sFOhHb5ycNiB"
      }
    },
    {
      "cell_type": "code",
      "execution_count": null,
      "metadata": {
        "id": "naPmyjCebcY3"
      },
      "outputs": [],
      "source": [
        "import numpy as np\n",
        "\n",
        "arr = np.array([[1, 2, 3],\n",
        "                [4, 5, 6],\n",
        "                [7, 8, 9]])\n",
        "\n",
        "row_sum = arr.sum(axis=1)\n",
        "print(row_sum)\n"
      ]
    },
    {
      "cell_type": "markdown",
      "source": [
        "Q2. Write a Pandas script to find the mean of a specific column in a DataFrame."
      ],
      "metadata": {
        "id": "Mf5wDf-Wchlj"
      }
    },
    {
      "cell_type": "code",
      "source": [
        "import pandas as pd\n",
        "\n",
        "data = {'Name': ['A', 'B', 'C'],\n",
        "        'Marks': [85, 90, 78]}\n",
        "df = pd.DataFrame(data)\n",
        "\n",
        "mean_marks = df['Marks'].mean()\n",
        "print(mean_marks)\n"
      ],
      "metadata": {
        "id": "ZMyOD9DgckAt"
      },
      "execution_count": null,
      "outputs": []
    },
    {
      "cell_type": "markdown",
      "source": [
        "Q3. Create a scatter plot using Matplotlib."
      ],
      "metadata": {
        "id": "LbMlraRPcmU7"
      }
    },
    {
      "cell_type": "code",
      "source": [
        "import matplotlib.pyplot as plt\n",
        "\n",
        "x = [5, 7, 8, 7, 6, 9]\n",
        "y = [99, 86, 87, 88, 100, 86]\n",
        "\n",
        "plt.scatter(x, y)\n",
        "plt.xlabel(\"X-axis\")\n",
        "plt.ylabel(\"Y-axis\")\n",
        "plt.title(\"Scatter Plot Example\")\n",
        "plt.show()\n"
      ],
      "metadata": {
        "id": "vPkQQq7tcpjA"
      },
      "execution_count": null,
      "outputs": []
    },
    {
      "cell_type": "markdown",
      "source": [
        "Q4. How do you calculate the correlation matrix using Seaborn and visualize it with a heatmap?"
      ],
      "metadata": {
        "id": "ha5QEUCTcrEM"
      }
    },
    {
      "cell_type": "code",
      "source": [
        "import pandas as pd\n",
        "import seaborn as sns\n",
        "import matplotlib.pyplot as plt\n",
        "\n",
        "df = pd.DataFrame({\n",
        "    'Math': [90, 80, 70, 60],\n",
        "    'Science': [85, 75, 65, 55],\n",
        "    'English': [88, 78, 68, 58]\n",
        "})\n",
        "\n",
        "corr = df.corr()\n",
        "sns.heatmap(corr, annot=True, cmap='coolwarm')\n",
        "plt.show()\n"
      ],
      "metadata": {
        "id": "7-v8VSoTct9H"
      },
      "execution_count": null,
      "outputs": []
    },
    {
      "cell_type": "markdown",
      "source": [
        "Q5. Generate a bar plot using Plotly."
      ],
      "metadata": {
        "id": "yglFAO_hcwnd"
      }
    },
    {
      "cell_type": "code",
      "source": [
        "import plotly.express as px\n",
        "import pandas as pd\n",
        "\n",
        "data = {'Fruit': ['Apple', 'Banana', 'Mango'],\n",
        "        'Quantity': [10, 15, 7]}\n",
        "df = pd.DataFrame(data)\n",
        "\n",
        "fig = px.bar(df, x='Fruit', y='Quantity', title=\"Bar Plot Example\")\n",
        "fig.show()\n"
      ],
      "metadata": {
        "id": "a-8P98zpcztR"
      },
      "execution_count": null,
      "outputs": []
    },
    {
      "cell_type": "markdown",
      "source": [
        "Q6. Create a DataFrame and add a new column based on an existing column."
      ],
      "metadata": {
        "id": "G6c0ovmhc2oO"
      }
    },
    {
      "cell_type": "code",
      "source": [
        "import pandas as pd\n",
        "\n",
        "df = pd.DataFrame({'Name': ['A', 'B', 'C'],\n",
        "                   'Marks': [50, 70, 90]})\n",
        "\n",
        "df['Result'] = df['Marks'].apply(lambda x: 'Pass' if x >= 60 else 'Fail')\n",
        "print(df)\n"
      ],
      "metadata": {
        "id": "g7x2QSDxc5NL"
      },
      "execution_count": null,
      "outputs": []
    },
    {
      "cell_type": "markdown",
      "source": [
        "Q7. Write a program to perform element-wise multiplication of two NumPy arrays.\n"
      ],
      "metadata": {
        "id": "qQ8NGzABc78Y"
      }
    },
    {
      "cell_type": "code",
      "source": [
        "import numpy as np\n",
        "\n",
        "a = np.array([1, 2, 3])\n",
        "b = np.array([4, 5, 6])\n",
        "\n",
        "result = a * b\n",
        "print(result)\n"
      ],
      "metadata": {
        "id": "nHGEjWKic-lI"
      },
      "execution_count": null,
      "outputs": []
    },
    {
      "cell_type": "markdown",
      "source": [
        "Q8. Create a line plot with multiple lines using Matplotlib."
      ],
      "metadata": {
        "id": "l6OsmAYKdAv0"
      }
    },
    {
      "cell_type": "code",
      "source": [
        "import matplotlib.pyplot as plt\n",
        "\n",
        "x = [1, 2, 3, 4, 5]\n",
        "y1 = [2, 4, 6, 8, 10]\n",
        "y2 = [1, 3, 5, 7, 9]\n",
        "\n",
        "plt.plot(x, y1, label=\"Line 1\")\n",
        "plt.plot(x, y2, label=\"Line 2\")\n",
        "plt.xlabel(\"X-axis\")\n",
        "plt.ylabel(\"Y-axis\")\n",
        "plt.legend()\n",
        "plt.show()\n"
      ],
      "metadata": {
        "id": "xuARBjlldEc4"
      },
      "execution_count": null,
      "outputs": []
    },
    {
      "cell_type": "markdown",
      "source": [
        "Q9. Generate a Pandas DataFrame and filter rows where a column value is greater than a threshold."
      ],
      "metadata": {
        "id": "gv0jGqSDdHy4"
      }
    },
    {
      "cell_type": "code",
      "source": [
        "import pandas as pd\n",
        "\n",
        "df = pd.DataFrame({'Name': ['A', 'B', 'C', 'D'],\n",
        "                   'Marks': [40, 75, 60, 85]})\n",
        "\n",
        "filtered = df[df['Marks'] > 60]\n",
        "print(filtered)\n"
      ],
      "metadata": {
        "id": "Q4CP4DMvdI07"
      },
      "execution_count": null,
      "outputs": []
    },
    {
      "cell_type": "markdown",
      "source": [
        "Q10. Create a histogram using Seaborn to visualize a distribution."
      ],
      "metadata": {
        "id": "8x47vvCgdLLX"
      }
    },
    {
      "cell_type": "code",
      "source": [
        "import seaborn as sns\n",
        "import matplotlib.pyplot as plt\n",
        "\n",
        "data = [1, 2, 2, 3, 3, 3, 4, 4, 4, 4]\n",
        "sns.histplot(data, bins=5, kde=True)\n",
        "plt.show()\n"
      ],
      "metadata": {
        "id": "WwnuufXzdOFs"
      },
      "execution_count": null,
      "outputs": []
    },
    {
      "cell_type": "markdown",
      "source": [
        "Q11. Perform matrix multiplication using NumPy."
      ],
      "metadata": {
        "id": "Bm2597-xdQLj"
      }
    },
    {
      "cell_type": "code",
      "source": [
        "import numpy as np\n",
        "\n",
        "a = np.array([[1, 2],\n",
        "              [3, 4]])\n",
        "b = np.array([[5, 6],\n",
        "              [7, 8]])\n",
        "\n",
        "result = np.dot(a, b)\n",
        "print(result)\n"
      ],
      "metadata": {
        "id": "9anh7r7DdSut"
      },
      "execution_count": null,
      "outputs": []
    },
    {
      "cell_type": "markdown",
      "source": [
        "Q12. Use Pandas to load a CSV file and display its first 5 rows."
      ],
      "metadata": {
        "id": "-t4r9ft0dVwt"
      }
    },
    {
      "cell_type": "code",
      "source": [
        "import pandas as pd\n",
        "\n",
        "df = pd.read_csv(\"data.csv\")\n",
        "print(df.head())\n"
      ],
      "metadata": {
        "id": "QUgC-Z-pdcFA"
      },
      "execution_count": null,
      "outputs": []
    },
    {
      "cell_type": "markdown",
      "source": [
        "Q13. Create a 3D scatter plot using Plotly."
      ],
      "metadata": {
        "id": "2Q-SvZJOdgye"
      }
    },
    {
      "cell_type": "code",
      "source": [
        "import plotly.express as px\n",
        "import pandas as pd\n",
        "\n",
        "df = pd.DataFrame({\n",
        "    'x': [1, 2, 3, 4, 5],\n",
        "    'y': [10, 20, 30, 40, 50],\n",
        "    'z': [5, 10, 15, 20, 25]\n",
        "})\n",
        "\n",
        "fig = px.scatter_3d(df, x='x', y='y', z='z', title=\"3D Scatter Plot\")\n",
        "fig.show()\n"
      ],
      "metadata": {
        "id": "HeOqFsMpdizY"
      },
      "execution_count": null,
      "outputs": []
    }
  ]
}